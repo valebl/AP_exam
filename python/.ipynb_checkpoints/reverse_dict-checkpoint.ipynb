{
 "cells": [
  {
   "cell_type": "markdown",
   "id": "likely-panic",
   "metadata": {},
   "source": [
    "## Reverse dictionary"
   ]
  },
  {
   "cell_type": "markdown",
   "id": "daily-thong",
   "metadata": {},
   "source": [
    "Given the following `dict` `d` compute the reverse dictionary `rd`. Let `k_d` and `v_d` be the keys and values of `d`, respectively. The keys of `rd` `k_rd` are all the integer numbers contained in all the `v_d`. The values of `rd` are lists containing all the keys `k_d` where `k_rd` is inside the corresponding `v_d`. For example\n",
    "\n",
    "```python\n",
    "d  = {\"a\": [1, 2, 3], \"b\": [45, 6], \"c\": [2, 45]}\n",
    "\n",
    "rd = {1: [\"a\"], 2: [\"a\", \"c\"], 3: [\"a\"], 6: [\"b\"], 45: [\"b\", \"c\"]}\n",
    "```\n",
    "\n",
    "If you do not write the proper code, the computational time might exceed the time given for the exam! Numpy is not required.\n",
    "\n",
    "Hints:\n",
    "+ comprehensions are your friend.\n",
    "+ work on a small dictionay, once you are satisfied with your code, apply it to the big `d`\n",
    "+ you can use the `test_exam.py` to test your implementation running `pytest test_exam.py`"
   ]
  },
  {
   "cell_type": "code",
   "execution_count": 1,
   "id": "processed-gender",
   "metadata": {},
   "outputs": [
    {
     "name": "stdout",
     "output_type": "stream",
     "text": [
      "A0 : [7, 190]\n",
      "A1 : [63, 58, 36, 189, 27]\n",
      "A2 : [23, 152, 109, 9, 8, 24, 56, 60, 130]\n",
      "A3 : [7, 144, 51, 184, 167, 180, 140, 108, 57, 115]\n",
      "A4 : [72, 2, 195, 41, 179, 109, 88, 72, 40, 56]\n",
      "A5 : [27, 24, 98, 25, 92, 89]\n",
      "A6 : [68, 12, 187, 118, 138, 32, 97, 21, 142, 76]\n",
      "A7 : [93, 148, 50, 181, 18, 12, 170, 59, 198, 75]\n",
      "A8 : [60, 26]\n",
      "A9 : [72, 117, 163, 94, 42, 95, 91]\n",
      "A10 : [172, 69, 180, 175]\n"
     ]
    }
   ],
   "source": [
    "chars = \"qwertyuiopasdfghjklzxcvbnm\"\n",
    "chars = sorted(chars.upper() + chars)\n",
    "\n",
    "keys = [c + str(n) for c in chars for n in range(100)]\n",
    "\n",
    "import random\n",
    "\n",
    "random.seed(42)\n",
    "\n",
    "d = {k: [random.randint(1, 200) for _ in range(random.randint(1, 10))] for k in keys}\n",
    "\n",
    "for i, (k, v) in enumerate(d.items()):\n",
    "    print(k, \":\", v)\n",
    "    if i == 10:\n",
    "        break"
   ]
  },
  {
   "cell_type": "code",
   "execution_count": 2,
   "id": "monthly-presence",
   "metadata": {},
   "outputs": [],
   "source": [
    "def reverse_dict(d):\n",
    "    \n",
    "    keys = set(el for v in d.values() for el in v) # get all the keys for the reversed dictionary\n",
    "    rd = {k:[]  for k in keys}  # build an empty dictionary \n",
    "    [[rd[v].append(k) for v in set(vals)] for k, vals in d.items()] # fill the reversed dictionary\n",
    "\n",
    "    return rd"
   ]
  },
  {
   "cell_type": "code",
   "execution_count": 3,
   "id": "circular-association",
   "metadata": {},
   "outputs": [
    {
     "data": {
      "text/plain": [
       "{1: ['a'], 2: ['a', 'c'], 3: ['a'], 6: ['b'], 45: ['b', 'c']}"
      ]
     },
     "execution_count": 3,
     "metadata": {},
     "output_type": "execute_result"
    }
   ],
   "source": [
    "d_small  = {\"a\": [1, 2, 3], \"b\": [45, 6], \"c\": [2, 45]}\n",
    "rd_small = reverse_dict(d_small)\n",
    "rd_small"
   ]
  },
  {
   "cell_type": "code",
   "execution_count": 4,
   "id": "latin-jonathan",
   "metadata": {},
   "outputs": [
    {
     "name": "stdout",
     "output_type": "stream",
     "text": [
      "1 : ['A24', 'A66', 'A88', 'B77', 'B85', 'C30', 'E36', 'E43', 'F67', 'F73', 'G20', 'G69', 'G77', 'G83', 'G95', 'I2', 'I7', 'J7', 'J28', 'J84', 'K22', 'K46', 'L42', 'L88', 'L93', 'M52', 'M54', 'N14', 'N61', 'O77', 'Q14', 'Q43', 'Q44', 'Q52', 'Q66', 'S31', 'S46', 'S49', 'S65', 'T37', 'T69', 'T85', 'T91', 'U13', 'U31', 'U97', 'V96', 'W2', 'W21', 'W43', 'X85', 'Y43', 'Y44', 'Y70', 'Z0', 'a19', 'a94', 'b22', 'b98', 'd63', 'e7', 'e8', 'e25', 'f13', 'f29', 'f58', 'f83', 'g3', 'g33', 'g44', 'g56', 'g70', 'h0', 'h5', 'h11', 'h23', 'h24', 'h44', 'i29', 'j7', 'j25', 'j44', 'k14', 'k47', 'k66', 'k96', 'l33', 'l41', 'l51', 'm29', 'm39', 'm41', 'm45', 'm63', 'n5', 'n17', 'n30', 'n47', 'n63', 'n77', 'o36', 'o84', 'p1', 'p36', 'q19', 'q33', 'q40', 'q47', 'q67', 'q78', 'r84', 's62', 's63', 's65', 's67', 's88', 't15', 't52', 't80', 'u44', 'v5', 'v37', 'v80', 'v87', 'v99', 'w50', 'w62', 'w69', 'w73', 'x5', 'x56', 'x63', 'x68', 'x74', 'x99', 'y29', 'y36', 'y42', 'z6', 'z15', 'z31', 'z34', 'z49']\n"
     ]
    }
   ],
   "source": [
    "rd = reverse_dict(d)\n",
    "for i, (k, v) in enumerate(rd.items()):\n",
    "    print(k, \":\", v)\n",
    "    if i == 0:\n",
    "        break"
   ]
  }
 ],
 "metadata": {
  "kernelspec": {
   "display_name": "Python 3",
   "language": "python",
   "name": "python3"
  },
  "language_info": {
   "codemirror_mode": {
    "name": "ipython",
    "version": 3
   },
   "file_extension": ".py",
   "mimetype": "text/x-python",
   "name": "python",
   "nbconvert_exporter": "python",
   "pygments_lexer": "ipython3",
   "version": "3.7.6"
  }
 },
 "nbformat": 4,
 "nbformat_minor": 5
}
